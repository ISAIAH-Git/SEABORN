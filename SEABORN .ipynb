{
 "cells": [
  {
   "cell_type": "markdown",
   "metadata": {},
   "source": [
    "# Data Visualization (Seaborn)"
   ]
  },
  {
   "cell_type": "code",
   "execution_count": null,
   "metadata": {},
   "outputs": [],
   "source": [
    "#importing seaborn"
   ]
  },
  {
   "cell_type": "code",
   "execution_count": null,
   "metadata": {},
   "outputs": [],
   "source": [
    "import seaborn as sns\n",
    "import pandas as pd\n",
    "import matplotlib.pyplot as plt\n",
    "%matplotlib inline"
   ]
  },
  {
   "cell_type": "code",
   "execution_count": null,
   "metadata": {},
   "outputs": [],
   "source": [
    "# NUMERICAL DATA PLOT :\n",
    "\n",
    "#-relplot()\n",
    "\n",
    "#-scatterplot()\n",
    "\n",
    "#-lineplot()"
   ]
  },
  {
   "cell_type": "code",
   "execution_count": null,
   "metadata": {},
   "outputs": [],
   "source": [
    "#NUMERIC\n",
    "sns.set(style=\"darkgrid\")\n",
    "tips=sns.load_dataset('tips')\n",
    "tips.head()"
   ]
  },
  {
   "cell_type": "code",
   "execution_count": null,
   "metadata": {},
   "outputs": [],
   "source": [
    "#RELPLOT() [RELATIONAL PLOT]\n",
    "sns.relplot(x=\"total_bill\",y='tip',data=tips) #RELATIONAL PLOT BETWEEN TWO VARIABLES."
   ]
  },
  {
   "cell_type": "code",
   "execution_count": null,
   "metadata": {},
   "outputs": [],
   "source": [
    "dir(sns.FacetGrid) #OPERATIONS THAT CAN BE PERFORMED."
   ]
  },
  {
   "cell_type": "code",
   "execution_count": null,
   "metadata": {},
   "outputs": [],
   "source": [
    "sns.relplot(x='total_bill',y='tip',data=tips,hue='smoker') #hue for categorizing variables"
   ]
  },
  {
   "cell_type": "code",
   "execution_count": null,
   "metadata": {},
   "outputs": [],
   "source": [
    "sns.relplot(x='total_bill',y='tip',data=tips,hue='smoker',style='time') #style for representation of categories"
   ]
  },
  {
   "cell_type": "code",
   "execution_count": null,
   "metadata": {},
   "outputs": [],
   "source": [
    "sns.relplot(x='total_bill',y='tip',hue='smoker',style='time',data=tips,palette='ch:r=-0.9,l=0.75') #lightining and Darkening"
   ]
  },
  {
   "cell_type": "code",
   "execution_count": null,
   "metadata": {},
   "outputs": [],
   "source": [
    "sns.relplot(x='total_bill',y='tip',data=tips,size='size',hue='sex',style='day') #size Changes size"
   ]
  },
  {
   "cell_type": "code",
   "execution_count": null,
   "metadata": {},
   "outputs": [],
   "source": [
    "sns.relplot(x='total_bill',y='tip',data=tips,size='size',sizes=(15,200),hue='sex',style='time',palette='ch:r=-0.9,l=0.75')\n",
    "#sizes range"
   ]
  },
  {
   "cell_type": "code",
   "execution_count": null,
   "metadata": {},
   "outputs": [],
   "source": [
    "from numpy.random import randn\n",
    "df=pd.DataFrame(dict(time=np.arange(500),value=randn(500).cumsum()))#CUMMILATIVE SUM"
   ]
  },
  {
   "cell_type": "code",
   "execution_count": null,
   "metadata": {},
   "outputs": [],
   "source": [
    "df.head()"
   ]
  },
  {
   "cell_type": "code",
   "execution_count": null,
   "metadata": {},
   "outputs": [],
   "source": [
    "sns.relplot(x='time',y='value',kind='line',data=df)"
   ]
  },
  {
   "cell_type": "code",
   "execution_count": null,
   "metadata": {},
   "outputs": [],
   "source": [
    "sns.relplot(x='time',y='value',kind='scatter',data=df,hue='value')"
   ]
  },
  {
   "cell_type": "code",
   "execution_count": null,
   "metadata": {},
   "outputs": [],
   "source": [
    "df=pd.DataFrame(randn(500,2).cumsum(axis=0),columns=['time','value'])\n",
    "df.head()"
   ]
  },
  {
   "cell_type": "code",
   "execution_count": null,
   "metadata": {},
   "outputs": [],
   "source": [
    "sns.relplot(x='time',y='value',kind='line',data=df,sort=False)"
   ]
  },
  {
   "cell_type": "code",
   "execution_count": null,
   "metadata": {},
   "outputs": [],
   "source": [
    "sns.relplot(x='time',y='value',kind='line',data=df,sort=True)"
   ]
  },
  {
   "cell_type": "code",
   "execution_count": null,
   "metadata": {},
   "outputs": [],
   "source": [
    "#Repeated Measures data\n",
    "fmri=sns.load_dataset('fmri')\n",
    "#MULTIPLE VALUES FOR SAME TIME POINT\n",
    "fmri.head()"
   ]
  },
  {
   "cell_type": "code",
   "execution_count": null,
   "metadata": {},
   "outputs": [],
   "source": [
    "sns.relplot(x='timepoint',y='signal',kind='line',data=fmri)#ci confidence interval is true"
   ]
  },
  {
   "cell_type": "code",
   "execution_count": null,
   "metadata": {},
   "outputs": [],
   "source": [
    "sns.relplot(x='timepoint',y='signal',kind='line',data=fmri,ci=False)#ci confidence interval is false"
   ]
  },
  {
   "cell_type": "code",
   "execution_count": null,
   "metadata": {},
   "outputs": [],
   "source": [
    "sns.relplot(x='timepoint',y='signal',kind='line',data=fmri,ci='sd')#ci confidence interval"
   ]
  },
  {
   "cell_type": "code",
   "execution_count": null,
   "metadata": {},
   "outputs": [],
   "source": [
    "sns.relplot(x='timepoint',y='signal',kind='line',estimator=None,data=fmri)\n",
    "#ci confidence interval removed.\n",
    "#i.e Estimator is None .."
   ]
  },
  {
   "cell_type": "code",
   "execution_count": null,
   "metadata": {},
   "outputs": [],
   "source": [
    "sns.relplot(x='timepoint',y='signal',kind='line',data=fmri,ci='sd',hue='event')#ci confidence interval"
   ]
  },
  {
   "cell_type": "code",
   "execution_count": null,
   "metadata": {},
   "outputs": [],
   "source": [
    "sns.relplot(x='timepoint',y='signal',hue='region',style='event',kind='line',data=fmri,markers=True,dashes=False)"
   ]
  },
  {
   "cell_type": "code",
   "execution_count": null,
   "metadata": {},
   "outputs": [],
   "source": [
    "sns.relplot(x='timepoint',y='signal',hue='region',style='region',kind='line',data=fmri,markers=True,dashes=False)"
   ]
  },
  {
   "cell_type": "code",
   "execution_count": null,
   "metadata": {},
   "outputs": [],
   "source": [
    "sns.relplot(x='timepoint',y='signal',hue='region',style='event',kind='line',data=fmri,markers=True,dashes=True)"
   ]
  },
  {
   "cell_type": "code",
   "execution_count": null,
   "metadata": {},
   "outputs": [],
   "source": [
    "sns.relplot(x='timepoint',y='signal',hue='event',style='event',kind='line',data=fmri) \n",
    "#Differenshiating same in different styles"
   ]
  },
  {
   "cell_type": "code",
   "execution_count": null,
   "metadata": {},
   "outputs": [],
   "source": [
    "sns.relplot(x='timepoint',y='signal',hue='event',units='subject',estimator=None,kind='line',data=fmri)"
   ]
  },
  {
   "cell_type": "code",
   "execution_count": null,
   "metadata": {},
   "outputs": [],
   "source": [
    "sns.relplot(x='timepoint',y='signal',hue='region',units='subject',estimator=None,kind='line',data=fmri.query(\"event=='stim'\"))\n",
    "#Querying the required data."
   ]
  },
  {
   "cell_type": "code",
   "execution_count": null,
   "metadata": {},
   "outputs": [],
   "source": [
    "dots=sns.load_dataset(\"dots\").query(\"align=='dots'\") #querying only dots out\n",
    "dots.head()"
   ]
  },
  {
   "cell_type": "code",
   "execution_count": null,
   "metadata": {},
   "outputs": [],
   "source": [
    "sns.relplot(x='time',y='firing_rate',data=dots,kind='line',hue='coherence',style='choice')"
   ]
  },
  {
   "cell_type": "code",
   "execution_count": null,
   "metadata": {},
   "outputs": [],
   "source": [
    "palette=sns.cubehelix_palette(light=0.5,n_colors=6) \n",
    "#here we are giving different colors to coherence which has 6 categories\n",
    "sns.relplot(x='time',y='firing_rate',data=dots,kind='line',hue='coherence',style='choice',palette=palette)"
   ]
  },
  {
   "cell_type": "code",
   "execution_count": null,
   "metadata": {},
   "outputs": [],
   "source": [
    "sns.relplot(x='time',y='firing_rate',hue='coherence',size='coherence',style='choice',kind='line',data=dots,sizes=(1,5))"
   ]
  },
  {
   "cell_type": "code",
   "execution_count": null,
   "metadata": {},
   "outputs": [],
   "source": [
    "df=pd.DataFrame(dict(time=pd.date_range('2019-06-02',periods=500),value=randn(500).cumsum()))\n",
    "df.head()"
   ]
  },
  {
   "cell_type": "code",
   "execution_count": null,
   "metadata": {},
   "outputs": [],
   "source": [
    "g=sns.relplot(x='time',y='value',kind='line',data=df)\n",
    "#Dates are not clearly visible"
   ]
  },
  {
   "cell_type": "code",
   "execution_count": null,
   "metadata": {},
   "outputs": [],
   "source": [
    "g=sns.relplot(x='time',y='value',kind='line',data=df)\n",
    "g.fig.autofmt_xdate()"
   ]
  },
  {
   "cell_type": "code",
   "execution_count": null,
   "metadata": {},
   "outputs": [],
   "source": [
    "#USING FACEDGRID YOU CAN DRAW MULTIPLE PLOTS."
   ]
  },
  {
   "cell_type": "code",
   "execution_count": null,
   "metadata": {},
   "outputs": [],
   "source": [
    "#LETS CHECK OUT TIPS DATASET."
   ]
  },
  {
   "cell_type": "code",
   "execution_count": null,
   "metadata": {},
   "outputs": [],
   "source": [
    "tips.head()"
   ]
  },
  {
   "cell_type": "code",
   "execution_count": null,
   "metadata": {},
   "outputs": [],
   "source": [
    "sns.relplot(x='total_bill',y='tip',hue='smoker',data=tips)\n",
    "\n",
    "#HERE WE CAN SEE WE HAVE A COMBINED PLOT LETS CATEGORISE THIS PLOT INTO MULTIPLE plots USING FACEDGRID."
   ]
  },
  {
   "cell_type": "code",
   "execution_count": null,
   "metadata": {},
   "outputs": [],
   "source": [
    "sns.relplot(x='total_bill',y='tip',hue='smoker',col='smoker',data=tips) \n",
    "#WE categorised combined plot into two individual plots"
   ]
  },
  {
   "cell_type": "code",
   "execution_count": null,
   "metadata": {},
   "outputs": [],
   "source": [
    "#Similarly\n",
    "sns.relplot(x='total_bill',y='tip',hue='smoker',col='time',data=tips) "
   ]
  },
  {
   "cell_type": "code",
   "execution_count": null,
   "metadata": {},
   "outputs": [],
   "source": [
    "sns.relplot(x='total_bill',y='tip',hue='smoker',col='size',data=tips)"
   ]
  },
  {
   "cell_type": "code",
   "execution_count": null,
   "metadata": {},
   "outputs": [],
   "source": [
    "sns.relplot(x='total_bill',y='tip',hue='smoker',row='size',data=tips)#GIVES VERTICALLY ROW WISE."
   ]
  },
  {
   "cell_type": "code",
   "execution_count": null,
   "metadata": {},
   "outputs": [],
   "source": [
    "sns.relplot(x='timepoint',y='signal',hue='subject',col='region',row='event',height=3,kind='line',ci='sd',data=fmri)\n",
    "#GIVES 2 CROSS 2\n",
    "#HERE COL WISE CATEGORIZATION\n",
    "#HERE ROW WISE CATEGORIZATION"
   ]
  },
  {
   "cell_type": "code",
   "execution_count": null,
   "metadata": {},
   "outputs": [],
   "source": [
    "sns.relplot(x='total_bill',y='tip',hue='smoker',col='size',data=tips,col_wrap=3,height=3)\n",
    "#HERE WE WANT 2*3 SO WE KNOW 6 CATEGORIZES SO TO GET 2 CROSS 3 WE PASS COL_WRAP=3"
   ]
  },
  {
   "cell_type": "code",
   "execution_count": null,
   "metadata": {},
   "outputs": [],
   "source": [
    "#LETS SEE LINE PLOT NOW FOR NUMERICAL DATA.\n",
    "sns.lineplot(x='total_bill',y='tip',data=tips)\n"
   ]
  },
  {
   "cell_type": "code",
   "execution_count": null,
   "metadata": {},
   "outputs": [],
   "source": [
    "#NOW LETS SEE A SCATTER PLOT\n",
    "sns.scatterplot(x='total_bill',y='tip',data=tips)"
   ]
  },
  {
   "cell_type": "code",
   "execution_count": null,
   "metadata": {},
   "outputs": [],
   "source": [
    "sns.lineplot(x='timepoint',y='signal',data=fmri)"
   ]
  },
  {
   "cell_type": "code",
   "execution_count": null,
   "metadata": {},
   "outputs": [],
   "source": [
    "sns.lineplot(x='timepoint',y='signal',hue='event',style='event',markers=True,ci='sd',data=fmri)"
   ]
  },
  {
   "cell_type": "code",
   "execution_count": null,
   "metadata": {},
   "outputs": [],
   "source": [
    "sns.lineplot(x='timepoint',y='signal',hue='event',style='event',markers=True,ci='sd',data=fmri,err_style='bars')"
   ]
  },
  {
   "cell_type": "code",
   "execution_count": null,
   "metadata": {},
   "outputs": [],
   "source": [
    "sns.lineplot(x='timepoint',y='signal',hue='event',style='event',markers=True,ci=68,data=fmri,err_style='bars')"
   ]
  },
  {
   "cell_type": "code",
   "execution_count": null,
   "metadata": {},
   "outputs": [],
   "source": [
    "sns.lineplot(x='timepoint',y='signal',hue='region',style='event',markers=True,ci=68,data=fmri,err_style='bars')\n",
    "#err_style represnts in bar and gives us approximated error and then ci should be a number."
   ]
  },
  {
   "cell_type": "code",
   "execution_count": null,
   "metadata": {},
   "outputs": [],
   "source": [
    "sns.lineplot(x='time',y='firing_rate',hue='coherence',style='choice',data=dots)#same using line plot"
   ]
  },
  {
   "cell_type": "code",
   "execution_count": null,
   "metadata": {},
   "outputs": [],
   "source": [
    "sns.scatterplot(x='total_bill',y='tip',data=tips,hue='smoker',size='size',style='time')#similar we got in relplot"
   ]
  },
  {
   "cell_type": "code",
   "execution_count": null,
   "metadata": {},
   "outputs": [],
   "source": [
    "#lets LOAD IRIS DATA AND DRAW SCatter plot\n"
   ]
  },
  {
   "cell_type": "code",
   "execution_count": null,
   "metadata": {},
   "outputs": [],
   "source": [
    "iris=sns.load_dataset('iris')\n",
    "iris.head()\n",
    "sns.scatterplot(x='sepal_length',y='petal_length',data=iris) #BOTH ARE SAME."
   ]
  },
  {
   "cell_type": "code",
   "execution_count": null,
   "metadata": {},
   "outputs": [],
   "source": [
    "sns.scatterplot(x=iris['sepal_length'],y=iris['petal_length']) #ANOTHER WAY."
   ]
  },
  {
   "cell_type": "code",
   "execution_count": null,
   "metadata": {},
   "outputs": [],
   "source": [
    "#CATEGORICAL DATA REPRESENTATION.\n",
    "#CATEGORICAL DATA PLOT :\n",
    "# --catplot()\n",
    " #--boxplot()\n",
    " #--stripplot()\n",
    " #--swarmplot()\n",
    " #--etc..."
   ]
  },
  {
   "cell_type": "code",
   "execution_count": null,
   "metadata": {},
   "outputs": [],
   "source": [
    "#LETS TAKE TIPS DATA"
   ]
  },
  {
   "cell_type": "code",
   "execution_count": null,
   "metadata": {},
   "outputs": [],
   "source": [
    "tips.head()"
   ]
  },
  {
   "cell_type": "code",
   "execution_count": null,
   "metadata": {},
   "outputs": [],
   "source": [
    "sns.catplot(x='day',y='total_bill',data=tips) #DEFAULTLY JITTER IS TRUE"
   ]
  },
  {
   "cell_type": "code",
   "execution_count": null,
   "metadata": {},
   "outputs": [],
   "source": [
    "sns.catplot(x='day',y='total_bill',data=tips,jitter=False)#TO REMOVE JITTER AND GET A SINGLE LINE,JITTER =FALSE"
   ]
  },
  {
   "cell_type": "code",
   "execution_count": null,
   "metadata": {},
   "outputs": [],
   "source": [
    "sns.catplot(x='day',y='total_bill',data=tips,kind='swarm')#like a swarm it differenshiates"
   ]
  },
  {
   "cell_type": "code",
   "execution_count": null,
   "metadata": {},
   "outputs": [],
   "source": [
    "sns.catplot(x='day',y='total_bill',data=tips,kind='swarm',hue='size')"
   ]
  },
  {
   "cell_type": "code",
   "execution_count": null,
   "metadata": {},
   "outputs": [],
   "source": [
    "sns.catplot(x='day',y='total_bill',data=tips,kind='swarm',hue='sex')"
   ]
  },
  {
   "cell_type": "code",
   "execution_count": null,
   "metadata": {},
   "outputs": [],
   "source": [
    "sns.catplot(x='smoker',y='tip',data=tips,order=['No','Yes'])"
   ]
  },
  {
   "cell_type": "code",
   "execution_count": null,
   "metadata": {},
   "outputs": [],
   "source": [
    "tips.head()"
   ]
  },
  {
   "cell_type": "code",
   "execution_count": null,
   "metadata": {},
   "outputs": [],
   "source": [
    "sns.catplot(x='day',y='total_bill',kind='box',hue='sex',data=tips) #BOX PLOTS FOR CATEGORICAL DATA"
   ]
  },
  {
   "cell_type": "code",
   "execution_count": null,
   "metadata": {},
   "outputs": [],
   "source": [
    "sns.catplot(x='day',y='total_bill',kind='box',hue='time',data=tips)"
   ]
  },
  {
   "cell_type": "code",
   "execution_count": null,
   "metadata": {},
   "outputs": [],
   "source": [
    "#TO COMINE SUB CATEGORICAL PLOTS INTO 1 BOX PLOT USE DODGE=FALSE"
   ]
  },
  {
   "cell_type": "code",
   "execution_count": null,
   "metadata": {},
   "outputs": [],
   "source": [
    "sns.catplot(x='day',y='total_bill',kind='box',hue='time',data=tips,dodge=False)"
   ]
  },
  {
   "cell_type": "code",
   "execution_count": null,
   "metadata": {},
   "outputs": [],
   "source": [
    "sns.catplot(x='day',y='total_bill',kind='box',hue='sex',data=tips,dodge=False) #similarly "
   ]
  },
  {
   "cell_type": "code",
   "execution_count": null,
   "metadata": {},
   "outputs": [],
   "source": [
    "diamonds=sns.load_dataset('diamonds')\n",
    "diamonds.head()"
   ]
  },
  {
   "cell_type": "code",
   "execution_count": null,
   "metadata": {},
   "outputs": [],
   "source": [
    "sns.catplot(x='color',y='price',kind='boxen',data=diamonds.sort_values('color'))#BOXEN MAKES QUARTILE INTO BOXES"
   ]
  },
  {
   "cell_type": "code",
   "execution_count": null,
   "metadata": {},
   "outputs": [],
   "source": [
    "sns.catplot(x='day',y='total_bill',kind='boxen',data=tips,dodge=False)"
   ]
  },
  {
   "cell_type": "code",
   "execution_count": null,
   "metadata": {},
   "outputs": [],
   "source": [
    "sns.catplot(x='total_bill',y='day',hue='sex',kind='violin',data=tips,split=False,inner='stick')\n",
    "#HERE SPLIT IS SIMILAR TO DODGE\n",
    "#INNER STICK DRAWS LINES INPLOT\n",
    "#VIOLIN IS SIMILAR TO BOXPLOT BUT INSTEAD REPRESENATION IS IN FORM OF VIOLIJN (OR) GUITAR\n",
    "#inside violin plot we have boxplot"
   ]
  },
  {
   "cell_type": "code",
   "execution_count": null,
   "metadata": {},
   "outputs": [],
   "source": [
    "sns.catplot(x='total_bill',y='day',hue='sex',kind='violin',data=tips,split=False)#AS WE REMOVED STICK WE GET BOXPLOT"
   ]
  },
  {
   "cell_type": "code",
   "execution_count": null,
   "metadata": {},
   "outputs": [],
   "source": [
    "sns.catplot(x='total_bill',y='day',hue='sex',kind='violin',data=tips,split=True,inner='stick')\n",
    "#split is true it combines it."
   ]
  },
  {
   "cell_type": "code",
   "execution_count": null,
   "metadata": {},
   "outputs": [],
   "source": [
    "sns.catplot(x='total_bill',y='day',hue='time',kind='violin',data=tips,split=False,inner='stick')"
   ]
  },
  {
   "cell_type": "code",
   "execution_count": null,
   "metadata": {},
   "outputs": [],
   "source": [
    "sns.catplot(x='total_bill',y='day',hue='time',kind='violin',data=tips,split=True,inner='stick')"
   ]
  },
  {
   "cell_type": "code",
   "execution_count": null,
   "metadata": {},
   "outputs": [],
   "source": [
    "#SWARM and VIOLIN plot together"
   ]
  },
  {
   "cell_type": "code",
   "execution_count": null,
   "metadata": {},
   "outputs": [],
   "source": [
    "g=sns.catplot(x='day',y='total_bill',kind='violin',inner=None,data=tips)\n",
    "sns.swarmplot(x='day',y='total_bill',color='k',size=3,data=tips,ax=g.ax) \n",
    "#HERE WE COMBINED BOTH THE PLOTS SWARM AND VIOLIN PLOT"
   ]
  },
  {
   "cell_type": "code",
   "execution_count": null,
   "metadata": {},
   "outputs": [],
   "source": [
    "titanic=sns.load_dataset(\"titanic\")\n",
    "titanic.head()"
   ]
  },
  {
   "cell_type": "code",
   "execution_count": null,
   "metadata": {},
   "outputs": [],
   "source": [
    "sns.catplot(x='sex',y='survived',hue='class',kind='bar',data=titanic)\n",
    "#IN BAR IF WE HAVE STRAIGHTEN LINES THEN IT MEANS IT HAS HIGH UNCERTAINITY"
   ]
  },
  {
   "cell_type": "code",
   "execution_count": null,
   "metadata": {},
   "outputs": [],
   "source": [
    "sns.catplot(x='deck',kind='count',palette='ch:0.25',data=titanic,hue='class')"
   ]
  },
  {
   "cell_type": "code",
   "execution_count": null,
   "metadata": {},
   "outputs": [],
   "source": [
    "sns.catplot(x='sex',y='survived',hue='class',kind='bar',data=titanic,palette='ch:0.25')\n",
    "#here we can see difference between bar and point\n",
    "#BIGGER THE LINE ABOVE THE BAR MEANS HIGH UNCERTAINITY\n",
    "#IF ITS SMALLER THEN LESS UNCERTAINITY"
   ]
  },
  {
   "cell_type": "code",
   "execution_count": null,
   "metadata": {},
   "outputs": [],
   "source": [
    "sns.catplot(x='sex',y='survived',hue='class',kind='point',data=titanic,palette='ch:0.25')"
   ]
  },
  {
   "cell_type": "code",
   "execution_count": null,
   "metadata": {},
   "outputs": [],
   "source": [
    "#VISUALIZING THE DISTRIBUTION OF THE DATA\n",
    " #--distplot()\n",
    " #--kdeplot()\n",
    " #--jointplot()\n",
    " #--rugplot()"
   ]
  },
  {
   "cell_type": "code",
   "execution_count": null,
   "metadata": {},
   "outputs": [],
   "source": [
    "#UNIVARIATE DISTRIBUTION: (DISTRIBUTION PLOT)\n",
    "x=randn(100)\n",
    "sns.distplot(x)"
   ]
  },
  {
   "cell_type": "code",
   "execution_count": null,
   "metadata": {},
   "outputs": [],
   "source": [
    "sns.distplot(x,kde=False)"
   ]
  },
  {
   "cell_type": "code",
   "execution_count": null,
   "metadata": {},
   "outputs": [],
   "source": [
    "sns.distplot(x,kde=False,rug=True)\n",
    "#RUG DRAWS LINES AT THE BOTTOM"
   ]
  },
  {
   "cell_type": "code",
   "execution_count": null,
   "metadata": {},
   "outputs": [],
   "source": [
    "sns.distplot(x,kde=False,rug=True,bins=30)\n",
    "#RUG DRAWS LINES AT THE BOTTOM"
   ]
  },
  {
   "cell_type": "code",
   "execution_count": null,
   "metadata": {},
   "outputs": [],
   "source": [
    "sns.distplot(x,kde=True,hist=False,rug=False,bins=30)"
   ]
  },
  {
   "cell_type": "code",
   "execution_count": null,
   "metadata": {},
   "outputs": [],
   "source": [
    "sns.kdeplot(x,shade=True)"
   ]
  },
  {
   "cell_type": "code",
   "execution_count": null,
   "metadata": {},
   "outputs": [],
   "source": [
    "sns.kdeplot(x,shade=True,cbar=True,kernel='gau',bw='scott',cumulative=True)"
   ]
  },
  {
   "cell_type": "code",
   "execution_count": null,
   "metadata": {},
   "outputs": [],
   "source": [
    "sns.kdeplot(x,shade=True,cbar=True,bw=0.2,cut=10)#bw(Bnadwidth)"
   ]
  },
  {
   "cell_type": "code",
   "execution_count": null,
   "metadata": {},
   "outputs": [],
   "source": [
    "sns.kdeplot(x,shade=True,cbar=True,bw=1,cut=0)#bw(Bnadwidth)[it gives smooth curve]"
   ]
  },
  {
   "cell_type": "code",
   "execution_count": null,
   "metadata": {},
   "outputs": [],
   "source": [
    "#bivaritae Distribution"
   ]
  },
  {
   "cell_type": "code",
   "execution_count": null,
   "metadata": {},
   "outputs": [],
   "source": [
    "tips.head()"
   ]
  },
  {
   "cell_type": "code",
   "execution_count": null,
   "metadata": {},
   "outputs": [],
   "source": [
    "x=tips['total_bill']\n",
    "y=tips['tip']\n",
    "sns.set()\n",
    "sns.jointplot(x='total_bill',y=y,data=tips,height=6,space=0.2,kind='hex',color='r',marginal_kws=dict(bins=15,rug=True),annot_kws=dict(stat='r'),edgecolor=\"w\",linewidth=1)"
   ]
  },
  {
   "cell_type": "code",
   "execution_count": null,
   "metadata": {},
   "outputs": [],
   "source": [
    "sns.jointplot(x=x,y=y,data=tips)"
   ]
  },
  {
   "cell_type": "code",
   "execution_count": null,
   "metadata": {},
   "outputs": [],
   "source": [
    "sns.jointplot(x=x,y=y,kind='hex')\n",
    "sns.axes_style('white')"
   ]
  },
  {
   "cell_type": "code",
   "execution_count": null,
   "metadata": {},
   "outputs": [],
   "source": [
    "sns.jointplot(x=x,y=y,kind='kde')\n",
    "sns.axes_style('white')\n",
    "sns.set()"
   ]
  },
  {
   "cell_type": "code",
   "execution_count": null,
   "metadata": {},
   "outputs": [],
   "source": [
    "#USE ALONG SIDE KDE PLOT ONLY\n",
    "\n",
    "f,ax=plt.subplots(figsize=(6,6))\n",
    "cmap=sns.cubehelix_palette(as_cmap=True,dark=0,light=1,reverse=True)\n",
    "sns.kdeplot(x,y,cmap=cmap,n_levels=60,shade=True)"
   ]
  },
  {
   "cell_type": "code",
   "execution_count": null,
   "metadata": {},
   "outputs": [],
   "source": [
    "g=sns.jointplot(x,y,kind='kde',color='m')"
   ]
  },
  {
   "cell_type": "code",
   "execution_count": null,
   "metadata": {},
   "outputs": [],
   "source": [
    "g=sns.jointplot(x,y,kind='kde',color='m')\n",
    "g.plot_joint(plt.scatter,c='w',s=30,linewidth=1,marker='+')\n",
    "g.ax_joint.collections[0].set_alpha(0)"
   ]
  },
  {
   "cell_type": "code",
   "execution_count": null,
   "metadata": {},
   "outputs": [],
   "source": [
    "#MULTIVARIATE\n",
    "#Pairplot(Multipleplot)\n",
    "sns.pairplot(iris)\n",
    "#HERE WE GET NON DIAGONAL SCATTER PLOT\n",
    "#&DIAGONAL UNIVARIATE BAR GRAPH"
   ]
  },
  {
   "cell_type": "code",
   "execution_count": null,
   "metadata": {},
   "outputs": [],
   "source": [
    "#to change this in pairplot\n",
    "#HERE WE GET NON DIAGONAL SCATTER PLOT\n",
    "#&DIAGONAL UNIVARIATE BAR GRAPH\n",
    "g=sns.PairGrid(iris)\n",
    "g.map_diag(sns.kdeplot)\n",
    "g.map_offdiag(sns.kdeplot,n_levels=10)\n",
    "#MULTIVARIATE ANALYSIS"
   ]
  },
  {
   "cell_type": "code",
   "execution_count": null,
   "metadata": {},
   "outputs": [],
   "source": [
    "#LINEAR REGRESSION AND RELATIONSHIP related figures.\n",
    "sns.regplot(x='total_bill',y='tip',data=tips)"
   ]
  },
  {
   "cell_type": "code",
   "execution_count": null,
   "metadata": {},
   "outputs": [],
   "source": [
    "#ANOTHER WAY\n",
    "sns.lmplot(x='total_bill',y='tip',data=tips)"
   ]
  },
  {
   "cell_type": "code",
   "execution_count": null,
   "metadata": {},
   "outputs": [],
   "source": [
    "sns.lmplot(x='size',y='tip',data=tips,x_jitter=0.05) #X AXIS JITTER"
   ]
  },
  {
   "cell_type": "code",
   "execution_count": null,
   "metadata": {},
   "outputs": [],
   "source": [
    "sns.lmplot(x='size',y='tip',data=tips,x_estimator=np.mean)\n",
    "#IT CALCULATES MEAN AND DRAWS A LINE\n",
    "#dots represent the mean."
   ]
  },
  {
   "cell_type": "code",
   "execution_count": null,
   "metadata": {},
   "outputs": [],
   "source": [
    "sns.lmplot(x='size',y='tip',data=tips,x_estimator=np.median)\n",
    "#Similarly the points represent the median over here."
   ]
  },
  {
   "cell_type": "code",
   "execution_count": null,
   "metadata": {},
   "outputs": [],
   "source": [
    "data=sns.load_dataset('anscombe')\n",
    "data.head()"
   ]
  },
  {
   "cell_type": "code",
   "execution_count": null,
   "metadata": {},
   "outputs": [],
   "source": [
    "sns.lmplot(x='x',y='y',data=data)"
   ]
  },
  {
   "cell_type": "code",
   "execution_count": null,
   "metadata": {},
   "outputs": [],
   "source": [
    "sns.lmplot(x='x',y='y',data=data.query(\"dataset=='I'\"),ci=100,scatter_kws={'s':80})"
   ]
  },
  {
   "cell_type": "code",
   "execution_count": null,
   "metadata": {},
   "outputs": [],
   "source": [
    "sns.lmplot(x='x',y='y',data=data.query(\"dataset=='I'\"),ci=None,scatter_kws={'s':80})\n",
    "#NO CONFIDENCE INTERVALS"
   ]
  },
  {
   "cell_type": "code",
   "execution_count": null,
   "metadata": {},
   "outputs": [],
   "source": [
    "sns.lmplot(x='x',y='y',data=data.query(\"dataset=='II'\"),order=2,ci=None,scatter_kws={'s':80})\n",
    "#HERE we can see there is no linear relationship but a polynomiyal relation that is to fit a polynomiyal relationship\n",
    "#ORDER=2 #order is used to fit ploynomiyal relation."
   ]
  },
  {
   "cell_type": "code",
   "execution_count": null,
   "metadata": {},
   "outputs": [],
   "source": [
    "sns.lmplot(x='x',y='y',data=data.query(\"dataset=='III'\"),ci=None,scatter_kws={'s':80})\n",
    "#HERE WE CAN SEE AN OUTLIER EXISTS AND BECAUSE OF THAT THE BEST FIT LINE HAS SHIFTED.\n",
    "#TO AVOID THAT USE ROBUST=TRUE[IT IGNORES OUTLIERS AND FITS BEST FIT LINE]"
   ]
  },
  {
   "cell_type": "code",
   "execution_count": null,
   "metadata": {},
   "outputs": [],
   "source": [
    "sns.lmplot(x='x',y='y',data=data.query(\"dataset=='II'\"),order=3)"
   ]
  },
  {
   "cell_type": "code",
   "execution_count": null,
   "metadata": {},
   "outputs": [],
   "source": [
    "sns.lmplot(x='x',y='y',data=data.query(\"dataset=='III'\"),robust=True,ci=None,scatter_kws={'s':80})\n",
    "#Robust fits perfect straight line for linear relationship and ignores outliers"
   ]
  },
  {
   "cell_type": "code",
   "execution_count": null,
   "metadata": {},
   "outputs": [],
   "source": [
    "sns.lmplot(x='total_bill',y='tip',data=tips,hue='sex',markers=['o','x'],col='time',row='smoker')"
   ]
  },
  {
   "cell_type": "code",
   "execution_count": null,
   "metadata": {},
   "outputs": [],
   "source": [
    "f,ax=plt.subplots(figsize=(8,4))\n",
    "sns.regplot(x='total_bill',y='tip',data=tips,ax=ax)"
   ]
  },
  {
   "cell_type": "code",
   "execution_count": null,
   "metadata": {},
   "outputs": [],
   "source": [
    "sns.lmplot(x='total_bill',y='tip',data=tips,col='day',col_wrap=2,height=4)"
   ]
  },
  {
   "cell_type": "code",
   "execution_count": null,
   "metadata": {},
   "outputs": [],
   "source": [
    "#CONTROLLING PLOTTED FIGURES AESTHETICS :\n",
    " #--figure styling\n",
    " #--axes styling\n",
    " #--color styling\n",
    " #--etc ....  "
   ]
  },
  {
   "cell_type": "code",
   "execution_count": null,
   "metadata": {},
   "outputs": [],
   "source": [
    "def sinplot(flip=1):\n",
    "    x=np.linspace(0,14,100)\n",
    "    for i in range(1,7):\n",
    "        plt.plot(x,np.sin(x+i*0.5)*(7-i)*flip)\n",
    "sinplot(-1)"
   ]
  },
  {
   "cell_type": "code",
   "execution_count": null,
   "metadata": {},
   "outputs": [],
   "source": [
    "sns.set_style('whitegrid')\n",
    "sinplot()"
   ]
  },
  {
   "cell_type": "code",
   "execution_count": null,
   "metadata": {},
   "outputs": [],
   "source": [
    "sns.set_style('dark')\n",
    "sinplot()"
   ]
  },
  {
   "cell_type": "code",
   "execution_count": null,
   "metadata": {},
   "outputs": [],
   "source": [
    "sns.set_style('white')\n",
    "sinplot()"
   ]
  },
  {
   "cell_type": "code",
   "execution_count": null,
   "metadata": {},
   "outputs": [],
   "source": [
    "sns.set_style('ticks')\n",
    "sinplot()"
   ]
  },
  {
   "cell_type": "code",
   "execution_count": null,
   "metadata": {},
   "outputs": [],
   "source": [
    "sns.set_style('ticks')\n",
    "sinplot()\n",
    "sns.despine()"
   ]
  },
  {
   "cell_type": "code",
   "execution_count": null,
   "metadata": {},
   "outputs": [],
   "source": [
    "sns.set_style('ticks')\n",
    "sinplot()\n",
    "sns.despine(left=True)"
   ]
  },
  {
   "cell_type": "code",
   "execution_count": null,
   "metadata": {},
   "outputs": [],
   "source": [
    "sns.set_style('ticks')\n",
    "sinplot()\n",
    "sns.despine(left=True,bottom=True)"
   ]
  },
  {
   "cell_type": "code",
   "execution_count": null,
   "metadata": {},
   "outputs": [],
   "source": [
    "sns.axes_style()"
   ]
  },
  {
   "cell_type": "code",
   "execution_count": null,
   "metadata": {},
   "outputs": [],
   "source": [
    "sns.set_style('ticks',{'axes.grid':True,'xtick.direction':'in'})\n",
    "sinplot()\n",
    "sns.despine(left=True,bottom=True)"
   ]
  },
  {
   "cell_type": "code",
   "execution_count": null,
   "metadata": {},
   "outputs": [],
   "source": [
    "sns.set_style('ticks',{'axes.grid':True,'xtick.direction':'in'})\n",
    "sinplot()\n",
    "sns.despine(left=True,bottom=False)"
   ]
  },
  {
   "cell_type": "code",
   "execution_count": null,
   "metadata": {},
   "outputs": [],
   "source": [
    "sns.set_style('darkgrid')\n",
    "sinplot()\n"
   ]
  },
  {
   "cell_type": "code",
   "execution_count": null,
   "metadata": {},
   "outputs": [],
   "source": [
    "sns.set_style('darkgrid')\n",
    "sns.set_context('poster')\n",
    "sinplot()"
   ]
  },
  {
   "cell_type": "code",
   "execution_count": null,
   "metadata": {},
   "outputs": [],
   "source": [
    "sns.set_style('darkgrid')\n",
    "sns.set_context('paper')\n",
    "sinplot()"
   ]
  },
  {
   "cell_type": "code",
   "execution_count": null,
   "metadata": {},
   "outputs": [],
   "source": [
    "sns.set_style('darkgrid')\n",
    "sns.set_context('talk',font_scale=1.5)\n",
    "sinplot()"
   ]
  },
  {
   "cell_type": "code",
   "execution_count": null,
   "metadata": {},
   "outputs": [],
   "source": [
    "current_palettes=sns.color_palette()\n",
    "sns.palplot(current_palettes)"
   ]
  },
  {
   "cell_type": "code",
   "execution_count": null,
   "metadata": {},
   "outputs": [],
   "source": [
    "current_palettes=sns.color_palette()\n",
    "sns.palplot(current_palettes)\n",
    "sns.palplot(sns.color_palette('hls',8))"
   ]
  },
  {
   "cell_type": "code",
   "execution_count": null,
   "metadata": {},
   "outputs": [],
   "source": [
    "#SUMMARY:"
   ]
  },
  {
   "cell_type": "code",
   "execution_count": null,
   "metadata": {},
   "outputs": [],
   "source": [
    "#distplot-Univariate Analysis\n",
    "#jointplot-Bivariate Analysis\n",
    "#pairplot-MULTIVARIATE analysis"
   ]
  },
  {
   "cell_type": "code",
   "execution_count": null,
   "metadata": {},
   "outputs": [],
   "source": [
    "import seaborn as sns"
   ]
  },
  {
   "cell_type": "code",
   "execution_count": null,
   "metadata": {},
   "outputs": [],
   "source": [
    "df=sns.load_dataset('tips')\n",
    "df.head()"
   ]
  },
  {
   "cell_type": "code",
   "execution_count": null,
   "metadata": {},
   "outputs": [],
   "source": [
    "df.corr()#correlation happens only among int and float"
   ]
  },
  {
   "cell_type": "code",
   "execution_count": null,
   "metadata": {},
   "outputs": [],
   "source": [
    "sns.heatmap(df.corr(),annot=True)"
   ]
  },
  {
   "cell_type": "code",
   "execution_count": null,
   "metadata": {},
   "outputs": [],
   "source": [
    "#Bivariate Analysis"
   ]
  },
  {
   "cell_type": "code",
   "execution_count": null,
   "metadata": {},
   "outputs": [],
   "source": [
    "sns.jointplot(x='tip',y='total_bill',data=df,kind='hex')"
   ]
  },
  {
   "cell_type": "code",
   "execution_count": null,
   "metadata": {},
   "outputs": [],
   "source": [
    "sns.jointplot(x='tip',y='total_bill',data=df,kind='reg')"
   ]
  },
  {
   "cell_type": "code",
   "execution_count": null,
   "metadata": {},
   "outputs": [],
   "source": [
    "#Pairplot"
   ]
  },
  {
   "cell_type": "code",
   "execution_count": null,
   "metadata": {},
   "outputs": [],
   "source": [
    "sns.pairplot(df)"
   ]
  },
  {
   "cell_type": "code",
   "execution_count": null,
   "metadata": {},
   "outputs": [],
   "source": [
    "sns.pairplot(df,hue='sex',height=5)"
   ]
  },
  {
   "cell_type": "code",
   "execution_count": null,
   "metadata": {},
   "outputs": [],
   "source": [
    "#Distplot"
   ]
  },
  {
   "cell_type": "code",
   "execution_count": null,
   "metadata": {},
   "outputs": [],
   "source": [
    "sns.distplot(df['tip'])#HERE KDE=TRUE AS DEFAULT so on Y axis it shows density"
   ]
  },
  {
   "cell_type": "code",
   "execution_count": null,
   "metadata": {},
   "outputs": [],
   "source": [
    "sns.distplot(df['tip'],kde=False,bins=10)#HERE AS KDE IS FALSE ON Y AXIS WE GET COUNT NOW INFORM OF A HISTOGRAM"
   ]
  },
  {
   "cell_type": "code",
   "execution_count": null,
   "metadata": {},
   "outputs": [],
   "source": [
    "#CATEGORICAL PLOTS\n",
    "#-boxplot\n",
    "#violinplot\n",
    "#countplot\n",
    "#barplot"
   ]
  },
  {
   "cell_type": "code",
   "execution_count": null,
   "metadata": {},
   "outputs": [],
   "source": [
    "#Countplot :IN THIS WE ONLY CAN GIVE EITHER X OR Y VALUE\n",
    "sns.countplot('day',data=df)\n"
   ]
  },
  {
   "cell_type": "code",
   "execution_count": null,
   "metadata": {},
   "outputs": [],
   "source": [
    "sns.countplot(y='day',data=df)"
   ]
  },
  {
   "cell_type": "code",
   "execution_count": null,
   "metadata": {},
   "outputs": [],
   "source": [
    "#Barplot\n",
    "sns.barplot(x='total_bill',y='sex',data=df)"
   ]
  },
  {
   "cell_type": "code",
   "execution_count": null,
   "metadata": {},
   "outputs": [],
   "source": [
    "sns.barplot(x='sex',y='total_bill',data=df)"
   ]
  },
  {
   "cell_type": "code",
   "execution_count": null,
   "metadata": {},
   "outputs": [],
   "source": [
    "#BOXPLOT\n",
    "sns.boxplot(x='sex',y='total_bill',data=df)"
   ]
  },
  {
   "cell_type": "code",
   "execution_count": null,
   "metadata": {},
   "outputs": [],
   "source": [
    "sns.boxplot(x='day',y='total_bill',data=df,palette='rainbow')"
   ]
  },
  {
   "cell_type": "code",
   "execution_count": null,
   "metadata": {},
   "outputs": [],
   "source": [
    "sns.boxplot(data=df,orient='r')"
   ]
  },
  {
   "cell_type": "code",
   "execution_count": null,
   "metadata": {},
   "outputs": [],
   "source": [
    "sns.boxplot(x='total_bill',y='day',hue='smoker',data=df)"
   ]
  },
  {
   "cell_type": "code",
   "execution_count": null,
   "metadata": {},
   "outputs": [],
   "source": [
    "#VIOLINPLOT: HELPS TO SEE DISTRIBUTION OF DATA IN TERMS OF KERNEL DENSITY ESTIMATION IN THE BOXPLOT\n",
    "sns.violinplot(x='total_bill',y='day',data=df,palette='rainbow')"
   ]
  },
  {
   "cell_type": "code",
   "execution_count": null,
   "metadata": {},
   "outputs": [],
   "source": [
    "#THANKYOU BY RAMA VEERA ISAIAH."
   ]
  }
 ],
 "metadata": {
  "kernelspec": {
   "display_name": "Python 3",
   "language": "python",
   "name": "python3"
  },
  "language_info": {
   "codemirror_mode": {
    "name": "ipython",
    "version": 3
   },
   "file_extension": ".py",
   "mimetype": "text/x-python",
   "name": "python",
   "nbconvert_exporter": "python",
   "pygments_lexer": "ipython3",
   "version": "3.7.4"
  }
 },
 "nbformat": 4,
 "nbformat_minor": 2
}
